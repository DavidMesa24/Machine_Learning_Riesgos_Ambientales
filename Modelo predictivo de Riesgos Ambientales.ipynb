{
 "cells": [
  {
   "cell_type": "markdown",
   "id": "d80c686e",
   "metadata": {},
   "source": [
    "# Modelos predictivos que apoyen la toma de decisiones para el establecimiento de planes de mitigación de incendios forestales."
   ]
  },
  {
   "cell_type": "markdown",
   "id": "6832725e",
   "metadata": {},
   "source": [
    "## Author: David Mesa\n",
    "ds.mesa10@uniandes.edu.co"
   ]
  },
  {
   "cell_type": "markdown",
   "id": "7dfffc89",
   "metadata": {},
   "source": [
    "# Regresión lineal"
   ]
  },
  {
   "cell_type": "markdown",
   "id": "dfb659a7",
   "metadata": {},
   "source": [
    "## 1. Carga, exploración y visualización de los datos. "
   ]
  },
  {
   "cell_type": "code",
   "execution_count": 84,
   "id": "19f15b98",
   "metadata": {},
   "outputs": [
    {
     "data": {
      "text/html": [
       "<div>\n",
       "<style scoped>\n",
       "    .dataframe tbody tr th:only-of-type {\n",
       "        vertical-align: middle;\n",
       "    }\n",
       "\n",
       "    .dataframe tbody tr th {\n",
       "        vertical-align: top;\n",
       "    }\n",
       "\n",
       "    .dataframe thead th {\n",
       "        text-align: right;\n",
       "    }\n",
       "</style>\n",
       "<table border=\"1\" class=\"dataframe\">\n",
       "  <thead>\n",
       "    <tr style=\"text-align: right;\">\n",
       "      <th></th>\n",
       "      <th>area_quemada</th>\n",
       "      <th>clase_incendio</th>\n",
       "      <th>mes_incendio</th>\n",
       "      <th>vegetacion</th>\n",
       "      <th>Prec_pre_30</th>\n",
       "      <th>Prec_pre_15</th>\n",
       "      <th>Prec_pre_7</th>\n",
       "      <th>Prec_cont</th>\n",
       "    </tr>\n",
       "  </thead>\n",
       "  <tbody>\n",
       "    <tr>\n",
       "      <th>0</th>\n",
       "      <td>3.0</td>\n",
       "      <td>B</td>\n",
       "      <td>Diciembre</td>\n",
       "      <td>Desierto polar_roca</td>\n",
       "      <td>59.8</td>\n",
       "      <td>8.4</td>\n",
       "      <td>0.0</td>\n",
       "      <td>86.8</td>\n",
       "    </tr>\n",
       "    <tr>\n",
       "      <th>1</th>\n",
       "      <td>60.0</td>\n",
       "      <td>C</td>\n",
       "      <td>Febrero</td>\n",
       "      <td>Bosque tropical perennifolio secundario</td>\n",
       "      <td>168.8</td>\n",
       "      <td>42.2</td>\n",
       "      <td>18.1</td>\n",
       "      <td>124.5</td>\n",
       "    </tr>\n",
       "    <tr>\n",
       "      <th>2</th>\n",
       "      <td>1.0</td>\n",
       "      <td>B</td>\n",
       "      <td>Junio</td>\n",
       "      <td>Bosque tropical perennifolio</td>\n",
       "      <td>10.4</td>\n",
       "      <td>7.2</td>\n",
       "      <td>0.0</td>\n",
       "      <td>0.0</td>\n",
       "    </tr>\n",
       "    <tr>\n",
       "      <th>3</th>\n",
       "      <td>5.2</td>\n",
       "      <td>B</td>\n",
       "      <td>Enero</td>\n",
       "      <td>Matorral abierto</td>\n",
       "      <td>26.0</td>\n",
       "      <td>0.0</td>\n",
       "      <td>0.0</td>\n",
       "      <td>0.0</td>\n",
       "    </tr>\n",
       "    <tr>\n",
       "      <th>4</th>\n",
       "      <td>1.0</td>\n",
       "      <td>B</td>\n",
       "      <td>Noviembre</td>\n",
       "      <td>Matorral abierto</td>\n",
       "      <td>28.4</td>\n",
       "      <td>27.5</td>\n",
       "      <td>1.2</td>\n",
       "      <td>55.4</td>\n",
       "    </tr>\n",
       "  </tbody>\n",
       "</table>\n",
       "</div>"
      ],
      "text/plain": [
       "   area_quemada clase_incendio mes_incendio  \\\n",
       "0           3.0              B    Diciembre   \n",
       "1          60.0              C      Febrero   \n",
       "2           1.0              B        Junio   \n",
       "3           5.2              B        Enero   \n",
       "4           1.0              B    Noviembre   \n",
       "\n",
       "                                vegetacion  Prec_pre_30  Prec_pre_15  \\\n",
       "0                      Desierto polar_roca         59.8          8.4   \n",
       "1  Bosque tropical perennifolio secundario        168.8         42.2   \n",
       "2             Bosque tropical perennifolio         10.4          7.2   \n",
       "3                         Matorral abierto         26.0          0.0   \n",
       "4                         Matorral abierto         28.4         27.5   \n",
       "\n",
       "   Prec_pre_7  Prec_cont  \n",
       "0         0.0       86.8  \n",
       "1        18.1      124.5  \n",
       "2         0.0        0.0  \n",
       "3         0.0        0.0  \n",
       "4         1.2       55.4  "
      ]
     },
     "execution_count": 84,
     "metadata": {},
     "output_type": "execute_result"
    }
   ],
   "source": [
    "#importar librerias y data necearia\n",
    "import pandas as pd\n",
    "import pandas_profiling as pf\n",
    "import matplotlib.pyplot as plt\n",
    "import os\n",
    "import numpy as np\n",
    "# Librerias para aprendizaje autónomo\n",
    "# Para la separación del conjunto de entrenamiento y test\n",
    "from sklearn.model_selection import train_test_split\n",
    "# Librería para parámetros polinomiales\n",
    "from sklearn.preprocessing import PolynomialFeatures\n",
    "# Para contrur un modelo de regresión lineal \n",
    "from sklearn.linear_model import LinearRegression\n",
    "# Para determinar el rendimiento del modelo con MSE, MAE y R2\n",
    "from sklearn.metrics import mean_squared_error, mean_absolute_error, r2_score\n",
    "#Para sacar un reporte estadístico\n",
    "import statsmodels.api as sm\n",
    "data = pd.read_csv('datos_proyecto_modulo2.csv', sep=';')\n",
    "data.head()"
   ]
  },
  {
   "cell_type": "code",
   "execution_count": 85,
   "id": "b1d5af76",
   "metadata": {},
   "outputs": [
    {
     "data": {
      "text/plain": [
       "(37759, 8)"
      ]
     },
     "execution_count": 85,
     "metadata": {},
     "output_type": "execute_result"
    }
   ],
   "source": [
    "data.shape"
   ]
  },
  {
   "cell_type": "markdown",
   "id": "9844c964",
   "metadata": {},
   "source": [
    "## 2. Descripción de los datos"
   ]
  },
  {
   "cell_type": "code",
   "execution_count": 86,
   "id": "62f63339",
   "metadata": {},
   "outputs": [
    {
     "data": {
      "text/html": [
       "<div>\n",
       "<style scoped>\n",
       "    .dataframe tbody tr th:only-of-type {\n",
       "        vertical-align: middle;\n",
       "    }\n",
       "\n",
       "    .dataframe tbody tr th {\n",
       "        vertical-align: top;\n",
       "    }\n",
       "\n",
       "    .dataframe thead th {\n",
       "        text-align: right;\n",
       "    }\n",
       "</style>\n",
       "<table border=\"1\" class=\"dataframe\">\n",
       "  <thead>\n",
       "    <tr style=\"text-align: right;\">\n",
       "      <th></th>\n",
       "      <th>area_quemada</th>\n",
       "      <th>Prec_pre_30</th>\n",
       "      <th>Prec_pre_15</th>\n",
       "      <th>Prec_pre_7</th>\n",
       "      <th>Prec_cont</th>\n",
       "    </tr>\n",
       "  </thead>\n",
       "  <tbody>\n",
       "    <tr>\n",
       "      <th>count</th>\n",
       "      <td>37759.000000</td>\n",
       "      <td>37759.000000</td>\n",
       "      <td>37759.000000</td>\n",
       "      <td>37759.000000</td>\n",
       "      <td>37759.000000</td>\n",
       "    </tr>\n",
       "    <tr>\n",
       "      <th>mean</th>\n",
       "      <td>2344.983479</td>\n",
       "      <td>35.931177</td>\n",
       "      <td>16.127596</td>\n",
       "      <td>6.764959</td>\n",
       "      <td>21.260950</td>\n",
       "    </tr>\n",
       "    <tr>\n",
       "      <th>std</th>\n",
       "      <td>15512.560261</td>\n",
       "      <td>130.257343</td>\n",
       "      <td>65.928608</td>\n",
       "      <td>36.746405</td>\n",
       "      <td>69.377046</td>\n",
       "    </tr>\n",
       "    <tr>\n",
       "      <th>min</th>\n",
       "      <td>0.510000</td>\n",
       "      <td>0.000000</td>\n",
       "      <td>0.000000</td>\n",
       "      <td>0.000000</td>\n",
       "      <td>0.000000</td>\n",
       "    </tr>\n",
       "    <tr>\n",
       "      <th>25%</th>\n",
       "      <td>1.200000</td>\n",
       "      <td>0.000000</td>\n",
       "      <td>0.000000</td>\n",
       "      <td>0.000000</td>\n",
       "      <td>0.000000</td>\n",
       "    </tr>\n",
       "    <tr>\n",
       "      <th>50%</th>\n",
       "      <td>4.000000</td>\n",
       "      <td>0.600000</td>\n",
       "      <td>0.000000</td>\n",
       "      <td>0.000000</td>\n",
       "      <td>0.000000</td>\n",
       "    </tr>\n",
       "    <tr>\n",
       "      <th>75%</th>\n",
       "      <td>20.000000</td>\n",
       "      <td>37.900000</td>\n",
       "      <td>12.300000</td>\n",
       "      <td>1.500000</td>\n",
       "      <td>3.300000</td>\n",
       "    </tr>\n",
       "    <tr>\n",
       "      <th>max</th>\n",
       "      <td>538049.000000</td>\n",
       "      <td>13560.800000</td>\n",
       "      <td>2527.000000</td>\n",
       "      <td>1638.000000</td>\n",
       "      <td>2126.000000</td>\n",
       "    </tr>\n",
       "  </tbody>\n",
       "</table>\n",
       "</div>"
      ],
      "text/plain": [
       "        area_quemada   Prec_pre_30   Prec_pre_15    Prec_pre_7     Prec_cont\n",
       "count   37759.000000  37759.000000  37759.000000  37759.000000  37759.000000\n",
       "mean     2344.983479     35.931177     16.127596      6.764959     21.260950\n",
       "std     15512.560261    130.257343     65.928608     36.746405     69.377046\n",
       "min         0.510000      0.000000      0.000000      0.000000      0.000000\n",
       "25%         1.200000      0.000000      0.000000      0.000000      0.000000\n",
       "50%         4.000000      0.600000      0.000000      0.000000      0.000000\n",
       "75%        20.000000     37.900000     12.300000      1.500000      3.300000\n",
       "max    538049.000000  13560.800000   2527.000000   1638.000000   2126.000000"
      ]
     },
     "execution_count": 86,
     "metadata": {},
     "output_type": "execute_result"
    }
   ],
   "source": [
    "#Se realiza el perfilamiento de los datos numérico\n",
    "data.describe()"
   ]
  },
  {
   "cell_type": "code",
   "execution_count": 87,
   "id": "97d3b01b",
   "metadata": {},
   "outputs": [
    {
     "data": {
      "image/png": "[encoded data removed]",
      "text/plain": [
       "<Figure size 720x720 with 1 Axes>"
      ]
     },
     "metadata": {},
     "output_type": "display_data"
    }
   ],
   "source": [
    "#Número de eventos por mes\n",
    "plt.figure(figsize=(10,10))\n",
    "plt.bar(data['mes_incendio'].unique(), data['mes_incendio'].value_counts())\n",
    "plt.title('Mes de incendios')\n",
    "plt.show()"
   ]
  },
  {
   "cell_type": "code",
   "execution_count": 88,
   "id": "91013d4c",
   "metadata": {},
   "outputs": [
    {
     "data": {
      "image/png": "[encoded data removed]",
      "text/plain": [
       "<Figure size 1584x720 with 1 Axes>"
      ]
     },
     "metadata": {},
     "output_type": "display_data"
    }
   ],
   "source": [
    "#Tipo de vegetación por evento\n",
    "plt.figure(figsize=(22,10))\n",
    "plt.bar(data['vegetacion'].unique(), data['vegetacion'].value_counts())\n",
    "plt.title('Tipo de vegetación por evento')\n",
    "plt.show()"
   ]
  },
  {
   "cell_type": "code",
   "execution_count": 89,
   "id": "8b613de1",
   "metadata": {},
   "outputs": [
    {
     "data": {
      "image/png": "[encoded data removed]",
      "text/plain": [
       "<Figure size 1584x720 with 1 Axes>"
      ]
     },
     "metadata": {},
     "output_type": "display_data"
    }
   ],
   "source": [
    "#Tipo de vegetación por evento\n",
    "plt.figure(figsize=(22,10))\n",
    "plt.bar(data['clase_incendio'].unique(), data['clase_incendio'].value_counts())\n",
    "plt.title('Tipo de incendio')\n",
    "plt.show()"
   ]
  },
  {
   "cell_type": "code",
   "execution_count": 90,
   "id": "fd8598c9",
   "metadata": {},
   "outputs": [
    {
     "data": {
      "image/png": "[encoded data removed]",
      "text/plain": [
       "<Figure size 720x720 with 1 Axes>"
      ]
     },
     "metadata": {},
     "output_type": "display_data"
    }
   ],
   "source": [
    "#Grafico de dispersión enre el área afectada y la precipitación 7 días antes\n",
    "plt.figure(figsize=(10,10))\n",
    "plt.plot(data['Prec_pre_7'], data['area_quemada'], '.', color='blue')\n",
    "plt.xlabel('Precipitaciones 7 días anteriores al evento (mm)')\n",
    "plt.ylabel('area afectada')\n",
    "plt.show()"
   ]
  },
  {
   "cell_type": "code",
   "execution_count": 91,
   "id": "ed748f22",
   "metadata": {},
   "outputs": [
    {
     "data": {
      "image/png": "[encoded data removed]",
      "text/plain": [
       "<Figure size 720x720 with 1 Axes>"
      ]
     },
     "metadata": {},
     "output_type": "display_data"
    }
   ],
   "source": [
    "#Grafico de dispersión enre el área afectada y la precipitación 15 días antes\n",
    "plt.figure(figsize=(10,10))\n",
    "plt.plot(data['Prec_pre_15'], data['area_quemada'], '.', color='blue')\n",
    "plt.xlabel('Precipitaciones 15 días anteriores al evento (mm)')\n",
    "plt.ylabel('area afectada')\n",
    "plt.show()"
   ]
  },
  {
   "cell_type": "code",
   "execution_count": 92,
   "id": "67750539",
   "metadata": {},
   "outputs": [
    {
     "data": {
      "image/png": "[encoded data removed]",
      "text/plain": [
       "<Figure size 720x720 with 1 Axes>"
      ]
     },
     "metadata": {},
     "output_type": "display_data"
    }
   ],
   "source": [
    "#Grafico de dispersión enre el área afectada y la precipitación 30 días antes\n",
    "plt.figure(figsize=(10,10))\n",
    "plt.plot(data['Prec_pre_30'], data['area_quemada'], '.', color='blue')\n",
    "plt.xlabel('Precipitaciones 30 días anteriores al evento (mm)')\n",
    "plt.ylabel('area afectada')\n",
    "plt.show()"
   ]
  },
  {
   "cell_type": "markdown",
   "id": "1ddd392b",
   "metadata": {},
   "source": [
    "## 3. Preparación de los datos (valores repetidos y nulos)"
   ]
  },
  {
   "cell_type": "code",
   "execution_count": 93,
   "id": "b9244a07",
   "metadata": {},
   "outputs": [],
   "source": [
    "#Se recomienda verificar las ausencias en otro archivo distinto\n",
    "data_t = data"
   ]
  },
  {
   "cell_type": "code",
   "execution_count": 94,
   "id": "618be9c2",
   "metadata": {},
   "outputs": [
    {
     "data": {
      "text/plain": [
       "area_quemada      0.0\n",
       "clase_incendio    0.0\n",
       "mes_incendio      0.0\n",
       "vegetacion        0.0\n",
       "Prec_pre_30       0.0\n",
       "Prec_pre_15       0.0\n",
       "Prec_pre_7        0.0\n",
       "Prec_cont         0.0\n",
       "dtype: float64"
      ]
     },
     "execution_count": 94,
     "metadata": {},
     "output_type": "execute_result"
    }
   ],
   "source": [
    "#Comprobamos las ausencias\n",
    "data_t.isna().sum()/len(data_t)"
   ]
  },
  {
   "cell_type": "code",
   "execution_count": 95,
   "id": "fb88b4ee",
   "metadata": {},
   "outputs": [],
   "source": [
    "# Eliminamos los datos duplicados\n",
    "data_t = data_t.drop_duplicates()"
   ]
  },
  {
   "cell_type": "code",
   "execution_count": 96,
   "id": "4c111ced",
   "metadata": {},
   "outputs": [
    {
     "data": {
      "text/plain": [
       "(26394, 8)"
      ]
     },
     "execution_count": 96,
     "metadata": {},
     "output_type": "execute_result"
    }
   ],
   "source": [
    "#Vemos que se eliminaron datos duplicados\n",
    "data_t.shape"
   ]
  },
  {
   "cell_type": "code",
   "execution_count": 97,
   "id": "c21af9a8",
   "metadata": {},
   "outputs": [],
   "source": [
    "#Transformación de variables categoricas a Dummies\n",
    "data_t=pd.get_dummies(data_t, columns=['clase_incendio', 'mes_incendio', 'vegetacion'])"
   ]
  },
  {
   "cell_type": "code",
   "execution_count": null,
   "id": "0db6cad3",
   "metadata": {},
   "outputs": [],
   "source": []
  },
  {
   "cell_type": "code",
   "execution_count": 98,
   "id": "793ce014",
   "metadata": {},
   "outputs": [
    {
     "data": {
      "text/html": [
       "<div>\n",
       "<style scoped>\n",
       "    .dataframe tbody tr th:only-of-type {\n",
       "        vertical-align: middle;\n",
       "    }\n",
       "\n",
       "    .dataframe tbody tr th {\n",
       "        vertical-align: top;\n",
       "    }\n",
       "\n",
       "    .dataframe thead th {\n",
       "        text-align: right;\n",
       "    }\n",
       "</style>\n",
       "<table border=\"1\" class=\"dataframe\">\n",
       "  <thead>\n",
       "    <tr style=\"text-align: right;\">\n",
       "      <th></th>\n",
       "      <th>area_quemada</th>\n",
       "      <th>Prec_pre_30</th>\n",
       "      <th>Prec_pre_15</th>\n",
       "      <th>Prec_pre_7</th>\n",
       "      <th>Prec_cont</th>\n",
       "      <th>clase_incendio_B</th>\n",
       "      <th>clase_incendio_C</th>\n",
       "      <th>clase_incendio_D</th>\n",
       "      <th>clase_incendio_E</th>\n",
       "      <th>clase_incendio_F</th>\n",
       "      <th>...</th>\n",
       "      <th>mes_incendio_Noviembre</th>\n",
       "      <th>mes_incendio_Octubre</th>\n",
       "      <th>mes_incendio_Septiembre</th>\n",
       "      <th>vegetacion_Bosque templado</th>\n",
       "      <th>vegetacion_Bosque tropical perennifolio</th>\n",
       "      <th>vegetacion_Bosque tropical perennifolio secundario</th>\n",
       "      <th>vegetacion_Desierto</th>\n",
       "      <th>vegetacion_Desierto polar_roca</th>\n",
       "      <th>vegetacion_Matorral abierto</th>\n",
       "      <th>vegetacion_Pradera_estepa</th>\n",
       "    </tr>\n",
       "  </thead>\n",
       "  <tbody>\n",
       "    <tr>\n",
       "      <th>0</th>\n",
       "      <td>3.0</td>\n",
       "      <td>59.8</td>\n",
       "      <td>8.4</td>\n",
       "      <td>0.0</td>\n",
       "      <td>86.8</td>\n",
       "      <td>1</td>\n",
       "      <td>0</td>\n",
       "      <td>0</td>\n",
       "      <td>0</td>\n",
       "      <td>0</td>\n",
       "      <td>...</td>\n",
       "      <td>0</td>\n",
       "      <td>0</td>\n",
       "      <td>0</td>\n",
       "      <td>0</td>\n",
       "      <td>0</td>\n",
       "      <td>0</td>\n",
       "      <td>0</td>\n",
       "      <td>1</td>\n",
       "      <td>0</td>\n",
       "      <td>0</td>\n",
       "    </tr>\n",
       "    <tr>\n",
       "      <th>1</th>\n",
       "      <td>60.0</td>\n",
       "      <td>168.8</td>\n",
       "      <td>42.2</td>\n",
       "      <td>18.1</td>\n",
       "      <td>124.5</td>\n",
       "      <td>0</td>\n",
       "      <td>1</td>\n",
       "      <td>0</td>\n",
       "      <td>0</td>\n",
       "      <td>0</td>\n",
       "      <td>...</td>\n",
       "      <td>0</td>\n",
       "      <td>0</td>\n",
       "      <td>0</td>\n",
       "      <td>0</td>\n",
       "      <td>0</td>\n",
       "      <td>1</td>\n",
       "      <td>0</td>\n",
       "      <td>0</td>\n",
       "      <td>0</td>\n",
       "      <td>0</td>\n",
       "    </tr>\n",
       "    <tr>\n",
       "      <th>2</th>\n",
       "      <td>1.0</td>\n",
       "      <td>10.4</td>\n",
       "      <td>7.2</td>\n",
       "      <td>0.0</td>\n",
       "      <td>0.0</td>\n",
       "      <td>1</td>\n",
       "      <td>0</td>\n",
       "      <td>0</td>\n",
       "      <td>0</td>\n",
       "      <td>0</td>\n",
       "      <td>...</td>\n",
       "      <td>0</td>\n",
       "      <td>0</td>\n",
       "      <td>0</td>\n",
       "      <td>0</td>\n",
       "      <td>1</td>\n",
       "      <td>0</td>\n",
       "      <td>0</td>\n",
       "      <td>0</td>\n",
       "      <td>0</td>\n",
       "      <td>0</td>\n",
       "    </tr>\n",
       "    <tr>\n",
       "      <th>3</th>\n",
       "      <td>5.2</td>\n",
       "      <td>26.0</td>\n",
       "      <td>0.0</td>\n",
       "      <td>0.0</td>\n",
       "      <td>0.0</td>\n",
       "      <td>1</td>\n",
       "      <td>0</td>\n",
       "      <td>0</td>\n",
       "      <td>0</td>\n",
       "      <td>0</td>\n",
       "      <td>...</td>\n",
       "      <td>0</td>\n",
       "      <td>0</td>\n",
       "      <td>0</td>\n",
       "      <td>0</td>\n",
       "      <td>0</td>\n",
       "      <td>0</td>\n",
       "      <td>0</td>\n",
       "      <td>0</td>\n",
       "      <td>1</td>\n",
       "      <td>0</td>\n",
       "    </tr>\n",
       "    <tr>\n",
       "      <th>4</th>\n",
       "      <td>1.0</td>\n",
       "      <td>28.4</td>\n",
       "      <td>27.5</td>\n",
       "      <td>1.2</td>\n",
       "      <td>55.4</td>\n",
       "      <td>1</td>\n",
       "      <td>0</td>\n",
       "      <td>0</td>\n",
       "      <td>0</td>\n",
       "      <td>0</td>\n",
       "      <td>...</td>\n",
       "      <td>1</td>\n",
       "      <td>0</td>\n",
       "      <td>0</td>\n",
       "      <td>0</td>\n",
       "      <td>0</td>\n",
       "      <td>0</td>\n",
       "      <td>0</td>\n",
       "      <td>0</td>\n",
       "      <td>1</td>\n",
       "      <td>0</td>\n",
       "    </tr>\n",
       "  </tbody>\n",
       "</table>\n",
       "<p>5 rows × 30 columns</p>\n",
       "</div>"
      ],
      "text/plain": [
       "   area_quemada  Prec_pre_30  Prec_pre_15  Prec_pre_7  Prec_cont  \\\n",
       "0           3.0         59.8          8.4         0.0       86.8   \n",
       "1          60.0        168.8         42.2        18.1      124.5   \n",
       "2           1.0         10.4          7.2         0.0        0.0   \n",
       "3           5.2         26.0          0.0         0.0        0.0   \n",
       "4           1.0         28.4         27.5         1.2       55.4   \n",
       "\n",
       "   clase_incendio_B  clase_incendio_C  clase_incendio_D  clase_incendio_E  \\\n",
       "0                 1                 0                 0                 0   \n",
       "1                 0                 1                 0                 0   \n",
       "2                 1                 0                 0                 0   \n",
       "3                 1                 0                 0                 0   \n",
       "4                 1                 0                 0                 0   \n",
       "\n",
       "   clase_incendio_F  ...  mes_incendio_Noviembre  mes_incendio_Octubre  \\\n",
       "0                 0  ...                       0                     0   \n",
       "1                 0  ...                       0                     0   \n",
       "2                 0  ...                       0                     0   \n",
       "3                 0  ...                       0                     0   \n",
       "4                 0  ...                       1                     0   \n",
       "\n",
       "   mes_incendio_Septiembre  vegetacion_Bosque templado  \\\n",
       "0                        0                           0   \n",
       "1                        0                           0   \n",
       "2                        0                           0   \n",
       "3                        0                           0   \n",
       "4                        0                           0   \n",
       "\n",
       "   vegetacion_Bosque tropical perennifolio  \\\n",
       "0                                        0   \n",
       "1                                        0   \n",
       "2                                        1   \n",
       "3                                        0   \n",
       "4                                        0   \n",
       "\n",
       "   vegetacion_Bosque tropical perennifolio secundario  vegetacion_Desierto  \\\n",
       "0                                                  0                     0   \n",
       "1                                                  1                     0   \n",
       "2                                                  0                     0   \n",
       "3                                                  0                     0   \n",
       "4                                                  0                     0   \n",
       "\n",
       "   vegetacion_Desierto polar_roca  vegetacion_Matorral abierto  \\\n",
       "0                               1                            0   \n",
       "1                               0                            0   \n",
       "2                               0                            0   \n",
       "3                               0                            1   \n",
       "4                               0                            1   \n",
       "\n",
       "   vegetacion_Pradera_estepa  \n",
       "0                          0  \n",
       "1                          0  \n",
       "2                          0  \n",
       "3                          0  \n",
       "4                          0  \n",
       "\n",
       "[5 rows x 30 columns]"
      ]
     },
     "execution_count": 98,
     "metadata": {},
     "output_type": "execute_result"
    }
   ],
   "source": [
    "data_t.head()"
   ]
  },
  {
   "cell_type": "markdown",
   "id": "f2af8efd",
   "metadata": {},
   "source": [
    "## 4. Construcción del modelo.\n",
    "\n",
    "Los algoritmos supervisados implementados en scikit-learn requiere que las variables de entrada sean separadas de la variable objetivo, en nuestro caso, la variable objetivo es 'precio'."
   ]
  },
  {
   "cell_type": "code",
   "execution_count": 290,
   "id": "476255a2",
   "metadata": {},
   "outputs": [],
   "source": [
    "y = data_t['area_quemada']\n",
    "x = data_t.drop(['area_quemada'], axis=1)\n",
    "x = x.drop(['vegetacion_Desierto'], axis=1)\n",
    "x = x.drop(['mes_incendio_Septiembre'], axis=1)\n",
    "x = x.drop(['Prec_pre_7'], axis=1)\n",
    "x = x.drop(['Prec_pre_30'], axis=1)\n",
    "x = x.drop(['mes_incendio_Agosto'], axis=1)\n",
    "x = x.drop(['mes_incendio_Noviembre'], axis=1)\n",
    "x = x.drop(['Prec_pre_15'], axis=1)\n",
    "x = x.drop(['Prec_cont'], axis=1)\n",
    "x = x.drop(['clase_incendio_F'], axis=1)\n",
    "x = x.drop(['mes_incendio_Diciembre'], axis=1)\n",
    "x = x.drop(['mes_incendio_Enero'], axis=1)\n",
    "x = x.drop(['mes_incendio_Octubre'], axis=1)\n",
    "x = x.drop(['mes_incendio_Marzo'], axis=1)\n",
    "x = x.drop(['mes_incendio_Febrero'], axis=1)\n",
    "x = x.drop(['mes_incendio_Abril'], axis=1)\n",
    "x = x.drop(['mes_incendio_Julio'], axis=1)\n",
    "x = x.drop(['mes_incendio_Mayo'], axis=1)"
   ]
  },
  {
   "cell_type": "code",
   "execution_count": 242,
   "id": "3910be24",
   "metadata": {},
   "outputs": [],
   "source": [
    "#Separamos los datos en un conjunto de Train Data y Test Data\n",
    "X_train, X_test, Y_train, Y_test = train_test_split( x, y, test_size = 0.2, random_state=0)"
   ]
  },
  {
   "cell_type": "code",
   "execution_count": 243,
   "id": "84964c7f",
   "metadata": {},
   "outputs": [
    {
     "data": {
      "text/plain": [
       "LinearRegression()"
      ]
     },
     "execution_count": 243,
     "metadata": {},
     "output_type": "execute_result"
    }
   ],
   "source": [
    "#Cremos un objeto de la Clase LinearRegression\n",
    "modelo_regresion = LinearRegression()\n",
    "#Entrenamos el modelo con los datos de entrenamiento\n",
    "modelo_regresion.fit(X_train, Y_train)"
   ]
  },
  {
   "cell_type": "markdown",
   "id": "e80a2b20",
   "metadata": {},
   "source": [
    "## 5. Evaluación del modelo.\n"
   ]
  },
  {
   "cell_type": "code",
   "execution_count": 244,
   "id": "05f23769",
   "metadata": {},
   "outputs": [
    {
     "name": "stdout",
     "output_type": "stream",
     "text": [
      "MSE: 234483629.07\n",
      "RMSE: 15312.86\n",
      "MAE: 3123.30\n",
      "R2: 0.23\n"
     ]
    }
   ],
   "source": [
    "#Predicciones sobre el modelo del conjunto de entrenamiento\n",
    "y_pred = modelo_regresion.predict(X_train)\n",
    "#Obtenemos las métricas de evaluación del modelo.\n",
    "print('MSE: %.2f' % mean_squared_error(Y_train, y_pred, squared = True))\n",
    "print('RMSE: %.2f' % mean_squared_error(Y_train, y_pred, squared = False))\n",
    "print('MAE: %.2f' % mean_absolute_error(Y_train, y_pred))\n",
    "print('R2: %.2f' % r2_score(Y_train, y_pred))"
   ]
  },
  {
   "cell_type": "code",
   "execution_count": 245,
   "id": "e7197021",
   "metadata": {},
   "outputs": [
    {
     "name": "stdout",
     "output_type": "stream",
     "text": [
      "MSE: 297247995.37\n",
      "RMSE: 17240.88\n",
      "MAE: 3616.12\n",
      "R2: 0.23\n"
     ]
    }
   ],
   "source": [
    "#Predicciones sobre el modelo del conjunto de test\n",
    "y_pred = modelo_regresion.predict(X_test)\n",
    "#Obtenemos las métricas de evaluación del modelo.\n",
    "print('MSE: %.2f' % mean_squared_error(Y_test, y_pred, squared = True))\n",
    "print('RMSE: %.2f' % mean_squared_error(Y_test, y_pred, squared = False))\n",
    "print('MAE: %.2f' % mean_absolute_error(Y_test, y_pred))\n",
    "print('R2: %.2f' % r2_score(Y_test, y_pred))"
   ]
  },
  {
   "cell_type": "code",
   "execution_count": 246,
   "id": "b80545f2",
   "metadata": {},
   "outputs": [
    {
     "data": {
      "text/plain": [
       "LinearRegression()"
      ]
     },
     "execution_count": 246,
     "metadata": {},
     "output_type": "execute_result"
    }
   ],
   "source": [
    "#Ajustar el modelo con los datos\n",
    "modelo_regresion.fit(x,y)"
   ]
  },
  {
   "cell_type": "code",
   "execution_count": 247,
   "id": "5b3ae42c",
   "metadata": {},
   "outputs": [
    {
     "data": {
      "text/html": [
       "<table class=\"simpletable\">\n",
       "<caption>OLS Regression Results</caption>\n",
       "<tr>\n",
       "  <th>Dep. Variable:</th>      <td>area_quemada</td>   <th>  R-squared (uncentered):</th>       <td>   0.254</td>  \n",
       "</tr>\n",
       "<tr>\n",
       "  <th>Model:</th>                   <td>OLS</td>       <th>  Adj. R-squared (uncentered):</th>  <td>   0.253</td>  \n",
       "</tr>\n",
       "<tr>\n",
       "  <th>Method:</th>             <td>Least Squares</td>  <th>  F-statistic:       </th>           <td>   747.9</td>  \n",
       "</tr>\n",
       "<tr>\n",
       "  <th>Date:</th>             <td>Mon, 11 Apr 2022</td> <th>  Prob (F-statistic):</th>            <td>  0.00</td>   \n",
       "</tr>\n",
       "<tr>\n",
       "  <th>Time:</th>                 <td>17:49:43</td>     <th>  Log-Likelihood:    </th>          <td>-2.9248e+05</td>\n",
       "</tr>\n",
       "<tr>\n",
       "  <th>No. Observations:</th>      <td> 26394</td>      <th>  AIC:               </th>           <td>5.850e+05</td> \n",
       "</tr>\n",
       "<tr>\n",
       "  <th>Df Residuals:</th>          <td> 26382</td>      <th>  BIC:               </th>           <td>5.851e+05</td> \n",
       "</tr>\n",
       "<tr>\n",
       "  <th>Df Model:</th>              <td>    12</td>      <th>                     </th>               <td> </td>     \n",
       "</tr>\n",
       "<tr>\n",
       "  <th>Covariance Type:</th>      <td>nonrobust</td>    <th>                     </th>               <td> </td>     \n",
       "</tr>\n",
       "</table>\n",
       "<table class=\"simpletable\">\n",
       "<tr>\n",
       "                           <td></td>                             <th>coef</th>     <th>std err</th>      <th>t</th>      <th>P>|t|</th>  <th>[0.025</th>    <th>0.975]</th>  \n",
       "</tr>\n",
       "<tr>\n",
       "  <th>clase_incendio_B</th>                                   <td>-2919.1185</td> <td>  406.130</td> <td>   -7.188</td> <td> 0.000</td> <td>-3715.154</td> <td>-2123.083</td>\n",
       "</tr>\n",
       "<tr>\n",
       "  <th>clase_incendio_C</th>                                   <td>-2971.2967</td> <td>  442.477</td> <td>   -6.715</td> <td> 0.000</td> <td>-3838.575</td> <td>-2104.018</td>\n",
       "</tr>\n",
       "<tr>\n",
       "  <th>clase_incendio_D</th>                                   <td>-3016.5098</td> <td>  657.809</td> <td>   -4.586</td> <td> 0.000</td> <td>-4305.851</td> <td>-1727.169</td>\n",
       "</tr>\n",
       "<tr>\n",
       "  <th>clase_incendio_E</th>                                   <td>-2585.7666</td> <td>  840.655</td> <td>   -3.076</td> <td> 0.002</td> <td>-4233.495</td> <td> -938.038</td>\n",
       "</tr>\n",
       "<tr>\n",
       "  <th>clase_incendio_G</th>                                   <td> 2.423e+04</td> <td>  481.351</td> <td>   50.345</td> <td> 0.000</td> <td> 2.33e+04</td> <td> 2.52e+04</td>\n",
       "</tr>\n",
       "<tr>\n",
       "  <th>mes_incendio_Junio</th>                                 <td> 2219.0508</td> <td>  336.439</td> <td>    6.596</td> <td> 0.000</td> <td> 1559.613</td> <td> 2878.488</td>\n",
       "</tr>\n",
       "<tr>\n",
       "  <th>vegetacion_Bosque templado</th>                         <td> 3140.5435</td> <td>  746.904</td> <td>    4.205</td> <td> 0.000</td> <td> 1676.571</td> <td> 4604.516</td>\n",
       "</tr>\n",
       "<tr>\n",
       "  <th>vegetacion_Bosque tropical perennifolio</th>            <td> 4163.0865</td> <td>  439.048</td> <td>    9.482</td> <td> 0.000</td> <td> 3302.528</td> <td> 5023.645</td>\n",
       "</tr>\n",
       "<tr>\n",
       "  <th>vegetacion_Bosque tropical perennifolio secundario</th> <td> 2616.2809</td> <td>  446.010</td> <td>    5.866</td> <td> 0.000</td> <td> 1742.076</td> <td> 3490.485</td>\n",
       "</tr>\n",
       "<tr>\n",
       "  <th>vegetacion_Desierto polar_roca</th>                     <td> 2459.6710</td> <td>  425.340</td> <td>    5.783</td> <td> 0.000</td> <td> 1625.981</td> <td> 3293.361</td>\n",
       "</tr>\n",
       "<tr>\n",
       "  <th>vegetacion_Matorral abierto</th>                        <td> 2653.6725</td> <td>  428.785</td> <td>    6.189</td> <td> 0.000</td> <td> 1813.231</td> <td> 3494.114</td>\n",
       "</tr>\n",
       "<tr>\n",
       "  <th>vegetacion_Pradera_estepa</th>                          <td> 2533.1061</td> <td>  493.411</td> <td>    5.134</td> <td> 0.000</td> <td> 1565.993</td> <td> 3500.219</td>\n",
       "</tr>\n",
       "</table>\n",
       "<table class=\"simpletable\">\n",
       "<tr>\n",
       "  <th>Omnibus:</th>       <td>51458.445</td> <th>  Durbin-Watson:     </th>   <td>   1.834</td>   \n",
       "</tr>\n",
       "<tr>\n",
       "  <th>Prob(Omnibus):</th>  <td> 0.000</td>   <th>  Jarque-Bera (JB):  </th> <td>132652443.135</td>\n",
       "</tr>\n",
       "<tr>\n",
       "  <th>Skew:</th>           <td>15.541</td>   <th>  Prob(JB):          </th>   <td>    0.00</td>   \n",
       "</tr>\n",
       "<tr>\n",
       "  <th>Kurtosis:</th>       <td>348.911</td>  <th>  Cond. No.          </th>   <td>    11.9</td>   \n",
       "</tr>\n",
       "</table><br/><br/>Notes:<br/>[1] R² is computed without centering (uncentered) since the model does not contain a constant.<br/>[2] Standard Errors assume that the covariance matrix of the errors is correctly specified."
      ],
      "text/plain": [
       "<class 'statsmodels.iolib.summary.Summary'>\n",
       "\"\"\"\n",
       "                                 OLS Regression Results                                \n",
       "=======================================================================================\n",
       "Dep. Variable:           area_quemada   R-squared (uncentered):                   0.254\n",
       "Model:                            OLS   Adj. R-squared (uncentered):              0.253\n",
       "Method:                 Least Squares   F-statistic:                              747.9\n",
       "Date:                Mon, 11 Apr 2022   Prob (F-statistic):                        0.00\n",
       "Time:                        17:49:43   Log-Likelihood:                     -2.9248e+05\n",
       "No. Observations:               26394   AIC:                                  5.850e+05\n",
       "Df Residuals:                   26382   BIC:                                  5.851e+05\n",
       "Df Model:                          12                                                  \n",
       "Covariance Type:            nonrobust                                                  \n",
       "======================================================================================================================\n",
       "                                                         coef    std err          t      P>|t|      [0.025      0.975]\n",
       "----------------------------------------------------------------------------------------------------------------------\n",
       "clase_incendio_B                                   -2919.1185    406.130     -7.188      0.000   -3715.154   -2123.083\n",
       "clase_incendio_C                                   -2971.2967    442.477     -6.715      0.000   -3838.575   -2104.018\n",
       "clase_incendio_D                                   -3016.5098    657.809     -4.586      0.000   -4305.851   -1727.169\n",
       "clase_incendio_E                                   -2585.7666    840.655     -3.076      0.002   -4233.495    -938.038\n",
       "clase_incendio_G                                    2.423e+04    481.351     50.345      0.000    2.33e+04    2.52e+04\n",
       "mes_incendio_Junio                                  2219.0508    336.439      6.596      0.000    1559.613    2878.488\n",
       "vegetacion_Bosque templado                          3140.5435    746.904      4.205      0.000    1676.571    4604.516\n",
       "vegetacion_Bosque tropical perennifolio             4163.0865    439.048      9.482      0.000    3302.528    5023.645\n",
       "vegetacion_Bosque tropical perennifolio secundario  2616.2809    446.010      5.866      0.000    1742.076    3490.485\n",
       "vegetacion_Desierto polar_roca                      2459.6710    425.340      5.783      0.000    1625.981    3293.361\n",
       "vegetacion_Matorral abierto                         2653.6725    428.785      6.189      0.000    1813.231    3494.114\n",
       "vegetacion_Pradera_estepa                           2533.1061    493.411      5.134      0.000    1565.993    3500.219\n",
       "==============================================================================\n",
       "Omnibus:                    51458.445   Durbin-Watson:                   1.834\n",
       "Prob(Omnibus):                  0.000   Jarque-Bera (JB):        132652443.135\n",
       "Skew:                          15.541   Prob(JB):                         0.00\n",
       "Kurtosis:                     348.911   Cond. No.                         11.9\n",
       "==============================================================================\n",
       "\n",
       "Notes:\n",
       "[1] R² is computed without centering (uncentered) since the model does not contain a constant.\n",
       "[2] Standard Errors assume that the covariance matrix of the errors is correctly specified.\n",
       "\"\"\""
      ]
     },
     "execution_count": 247,
     "metadata": {},
     "output_type": "execute_result"
    }
   ],
   "source": [
    "model = sm.OLS(y, x).fit()\n",
    "model.summary()"
   ]
  },
  {
   "cell_type": "markdown",
   "id": "dd1c3d05",
   "metadata": {},
   "source": [
    "# Regresión Polinomial"
   ]
  },
  {
   "cell_type": "code",
   "execution_count": 106,
   "id": "d9724352",
   "metadata": {},
   "outputs": [
    {
     "data": {
      "text/html": [
       "<div>\n",
       "<style scoped>\n",
       "    .dataframe tbody tr th:only-of-type {\n",
       "        vertical-align: middle;\n",
       "    }\n",
       "\n",
       "    .dataframe tbody tr th {\n",
       "        vertical-align: top;\n",
       "    }\n",
       "\n",
       "    .dataframe thead th {\n",
       "        text-align: right;\n",
       "    }\n",
       "</style>\n",
       "<table border=\"1\" class=\"dataframe\">\n",
       "  <thead>\n",
       "    <tr style=\"text-align: right;\">\n",
       "      <th></th>\n",
       "      <th>area_quemada</th>\n",
       "      <th>Prec_pre_30</th>\n",
       "      <th>Prec_pre_15</th>\n",
       "      <th>Prec_pre_7</th>\n",
       "      <th>Prec_cont</th>\n",
       "      <th>clase_incendio_B</th>\n",
       "      <th>clase_incendio_C</th>\n",
       "      <th>clase_incendio_D</th>\n",
       "      <th>clase_incendio_E</th>\n",
       "      <th>clase_incendio_F</th>\n",
       "      <th>...</th>\n",
       "      <th>mes_incendio_Noviembre</th>\n",
       "      <th>mes_incendio_Octubre</th>\n",
       "      <th>mes_incendio_Septiembre</th>\n",
       "      <th>vegetacion_Bosque templado</th>\n",
       "      <th>vegetacion_Bosque tropical perennifolio</th>\n",
       "      <th>vegetacion_Bosque tropical perennifolio secundario</th>\n",
       "      <th>vegetacion_Desierto</th>\n",
       "      <th>vegetacion_Desierto polar_roca</th>\n",
       "      <th>vegetacion_Matorral abierto</th>\n",
       "      <th>vegetacion_Pradera_estepa</th>\n",
       "    </tr>\n",
       "  </thead>\n",
       "  <tbody>\n",
       "    <tr>\n",
       "      <th>0</th>\n",
       "      <td>3.0</td>\n",
       "      <td>59.8</td>\n",
       "      <td>8.4</td>\n",
       "      <td>0.0</td>\n",
       "      <td>86.8</td>\n",
       "      <td>1</td>\n",
       "      <td>0</td>\n",
       "      <td>0</td>\n",
       "      <td>0</td>\n",
       "      <td>0</td>\n",
       "      <td>...</td>\n",
       "      <td>0</td>\n",
       "      <td>0</td>\n",
       "      <td>0</td>\n",
       "      <td>0</td>\n",
       "      <td>0</td>\n",
       "      <td>0</td>\n",
       "      <td>0</td>\n",
       "      <td>1</td>\n",
       "      <td>0</td>\n",
       "      <td>0</td>\n",
       "    </tr>\n",
       "    <tr>\n",
       "      <th>1</th>\n",
       "      <td>60.0</td>\n",
       "      <td>168.8</td>\n",
       "      <td>42.2</td>\n",
       "      <td>18.1</td>\n",
       "      <td>124.5</td>\n",
       "      <td>0</td>\n",
       "      <td>1</td>\n",
       "      <td>0</td>\n",
       "      <td>0</td>\n",
       "      <td>0</td>\n",
       "      <td>...</td>\n",
       "      <td>0</td>\n",
       "      <td>0</td>\n",
       "      <td>0</td>\n",
       "      <td>0</td>\n",
       "      <td>0</td>\n",
       "      <td>1</td>\n",
       "      <td>0</td>\n",
       "      <td>0</td>\n",
       "      <td>0</td>\n",
       "      <td>0</td>\n",
       "    </tr>\n",
       "    <tr>\n",
       "      <th>2</th>\n",
       "      <td>1.0</td>\n",
       "      <td>10.4</td>\n",
       "      <td>7.2</td>\n",
       "      <td>0.0</td>\n",
       "      <td>0.0</td>\n",
       "      <td>1</td>\n",
       "      <td>0</td>\n",
       "      <td>0</td>\n",
       "      <td>0</td>\n",
       "      <td>0</td>\n",
       "      <td>...</td>\n",
       "      <td>0</td>\n",
       "      <td>0</td>\n",
       "      <td>0</td>\n",
       "      <td>0</td>\n",
       "      <td>1</td>\n",
       "      <td>0</td>\n",
       "      <td>0</td>\n",
       "      <td>0</td>\n",
       "      <td>0</td>\n",
       "      <td>0</td>\n",
       "    </tr>\n",
       "    <tr>\n",
       "      <th>3</th>\n",
       "      <td>5.2</td>\n",
       "      <td>26.0</td>\n",
       "      <td>0.0</td>\n",
       "      <td>0.0</td>\n",
       "      <td>0.0</td>\n",
       "      <td>1</td>\n",
       "      <td>0</td>\n",
       "      <td>0</td>\n",
       "      <td>0</td>\n",
       "      <td>0</td>\n",
       "      <td>...</td>\n",
       "      <td>0</td>\n",
       "      <td>0</td>\n",
       "      <td>0</td>\n",
       "      <td>0</td>\n",
       "      <td>0</td>\n",
       "      <td>0</td>\n",
       "      <td>0</td>\n",
       "      <td>0</td>\n",
       "      <td>1</td>\n",
       "      <td>0</td>\n",
       "    </tr>\n",
       "    <tr>\n",
       "      <th>4</th>\n",
       "      <td>1.0</td>\n",
       "      <td>28.4</td>\n",
       "      <td>27.5</td>\n",
       "      <td>1.2</td>\n",
       "      <td>55.4</td>\n",
       "      <td>1</td>\n",
       "      <td>0</td>\n",
       "      <td>0</td>\n",
       "      <td>0</td>\n",
       "      <td>0</td>\n",
       "      <td>...</td>\n",
       "      <td>1</td>\n",
       "      <td>0</td>\n",
       "      <td>0</td>\n",
       "      <td>0</td>\n",
       "      <td>0</td>\n",
       "      <td>0</td>\n",
       "      <td>0</td>\n",
       "      <td>0</td>\n",
       "      <td>1</td>\n",
       "      <td>0</td>\n",
       "    </tr>\n",
       "  </tbody>\n",
       "</table>\n",
       "<p>5 rows × 30 columns</p>\n",
       "</div>"
      ],
      "text/plain": [
       "   area_quemada  Prec_pre_30  Prec_pre_15  Prec_pre_7  Prec_cont  \\\n",
       "0           3.0         59.8          8.4         0.0       86.8   \n",
       "1          60.0        168.8         42.2        18.1      124.5   \n",
       "2           1.0         10.4          7.2         0.0        0.0   \n",
       "3           5.2         26.0          0.0         0.0        0.0   \n",
       "4           1.0         28.4         27.5         1.2       55.4   \n",
       "\n",
       "   clase_incendio_B  clase_incendio_C  clase_incendio_D  clase_incendio_E  \\\n",
       "0                 1                 0                 0                 0   \n",
       "1                 0                 1                 0                 0   \n",
       "2                 1                 0                 0                 0   \n",
       "3                 1                 0                 0                 0   \n",
       "4                 1                 0                 0                 0   \n",
       "\n",
       "   clase_incendio_F  ...  mes_incendio_Noviembre  mes_incendio_Octubre  \\\n",
       "0                 0  ...                       0                     0   \n",
       "1                 0  ...                       0                     0   \n",
       "2                 0  ...                       0                     0   \n",
       "3                 0  ...                       0                     0   \n",
       "4                 0  ...                       1                     0   \n",
       "\n",
       "   mes_incendio_Septiembre  vegetacion_Bosque templado  \\\n",
       "0                        0                           0   \n",
       "1                        0                           0   \n",
       "2                        0                           0   \n",
       "3                        0                           0   \n",
       "4                        0                           0   \n",
       "\n",
       "   vegetacion_Bosque tropical perennifolio  \\\n",
       "0                                        0   \n",
       "1                                        0   \n",
       "2                                        1   \n",
       "3                                        0   \n",
       "4                                        0   \n",
       "\n",
       "   vegetacion_Bosque tropical perennifolio secundario  vegetacion_Desierto  \\\n",
       "0                                                  0                     0   \n",
       "1                                                  1                     0   \n",
       "2                                                  0                     0   \n",
       "3                                                  0                     0   \n",
       "4                                                  0                     0   \n",
       "\n",
       "   vegetacion_Desierto polar_roca  vegetacion_Matorral abierto  \\\n",
       "0                               1                            0   \n",
       "1                               0                            0   \n",
       "2                               0                            0   \n",
       "3                               0                            1   \n",
       "4                               0                            1   \n",
       "\n",
       "   vegetacion_Pradera_estepa  \n",
       "0                          0  \n",
       "1                          0  \n",
       "2                          0  \n",
       "3                          0  \n",
       "4                          0  \n",
       "\n",
       "[5 rows x 30 columns]"
      ]
     },
     "execution_count": 106,
     "metadata": {},
     "output_type": "execute_result"
    }
   ],
   "source": [
    "#Partimos de los mismos pasos anteriores, tenemos la data limpia y entendida\n",
    "data_t.head()"
   ]
  },
  {
   "cell_type": "code",
   "execution_count": 107,
   "id": "1f7a6508",
   "metadata": {},
   "outputs": [
    {
     "data": {
      "text/plain": [
       "(26394, 30)"
      ]
     },
     "execution_count": 107,
     "metadata": {},
     "output_type": "execute_result"
    }
   ],
   "source": [
    "data_t.shape"
   ]
  },
  {
   "cell_type": "markdown",
   "id": "52c3d3be",
   "metadata": {},
   "source": [
    "## 4. Construcción del modelo."
   ]
  },
  {
   "cell_type": "code",
   "execution_count": 267,
   "id": "5fec8abe",
   "metadata": {},
   "outputs": [],
   "source": [
    "Y = data_t['area_quemada']\n",
    "X = data_t.drop(['area_quemada'], axis=1)\n",
    "X = X.drop(['vegetacion_Desierto'], axis=1)\n",
    "X = X.drop(['mes_incendio_Septiembre'], axis=1)\n",
    "X = X.drop(['Prec_pre_7'], axis=1)\n",
    "X = X.drop(['Prec_pre_30'], axis=1)\n",
    "X = X.drop(['mes_incendio_Agosto'], axis=1)\n",
    "X = X.drop(['mes_incendio_Noviembre'], axis=1)\n",
    "X = X.drop(['Prec_pre_15'], axis=1)\n",
    "X = X.drop(['Prec_cont'], axis=1)\n",
    "X = X.drop(['clase_incendio_F'], axis=1)\n",
    "X = X.drop(['mes_incendio_Diciembre'], axis=1)\n",
    "X = X.drop(['mes_incendio_Enero'], axis=1)\n",
    "X = X.drop(['mes_incendio_Octubre'], axis=1)\n",
    "X = X.drop(['mes_incendio_Marzo'], axis=1)\n",
    "X = X.drop(['mes_incendio_Febrero'], axis=1)\n",
    "X = X.drop(['mes_incendio_Abril'], axis=1)\n",
    "X = X.drop(['mes_incendio_Julio'], axis=1)\n",
    "X = X.drop(['mes_incendio_Mayo'], axis=1)"
   ]
  },
  {
   "cell_type": "code",
   "execution_count": 268,
   "id": "382980cc",
   "metadata": {},
   "outputs": [],
   "source": [
    "#Utilizamos una transformación de grado 2"
   ]
  },
  {
   "cell_type": "code",
   "execution_count": 291,
   "id": "a47617fb",
   "metadata": {},
   "outputs": [],
   "source": [
    "poly = PolynomialFeatures(degree=2)\n",
    "poly_X = poly.fit_transform(X)"
   ]
  },
  {
   "cell_type": "code",
   "execution_count": 292,
   "id": "0f81b1ed",
   "metadata": {},
   "outputs": [
    {
     "data": {
      "text/plain": [
       "(26394, 91)"
      ]
     },
     "execution_count": 292,
     "metadata": {},
     "output_type": "execute_result"
    }
   ],
   "source": [
    "poly_X.shape"
   ]
  },
  {
   "cell_type": "code",
   "execution_count": 293,
   "id": "18a6557b",
   "metadata": {},
   "outputs": [],
   "source": [
    "poly_X_train, poly_X_test, poly_Y_train, poly_Y_test = train_test_split(poly_X, Y, test_size = 0.2, random_state = 0)"
   ]
  },
  {
   "cell_type": "code",
   "execution_count": 294,
   "id": "743a2f5c",
   "metadata": {},
   "outputs": [
    {
     "data": {
      "text/plain": [
       "LinearRegression()"
      ]
     },
     "execution_count": 294,
     "metadata": {},
     "output_type": "execute_result"
    }
   ],
   "source": [
    "#Creación del modelo\n",
    "modelo_regresion_poly = LinearRegression()\n",
    "modelo_regresion_poly"
   ]
  },
  {
   "cell_type": "code",
   "execution_count": 295,
   "id": "30d1e177",
   "metadata": {},
   "outputs": [
    {
     "data": {
      "text/plain": [
       "LinearRegression()"
      ]
     },
     "execution_count": 295,
     "metadata": {},
     "output_type": "execute_result"
    }
   ],
   "source": [
    "#Ajuste del modelo con los datos de entrenamiento\n",
    "modelo_regresion_poly.fit(poly_X_train, poly_Y_train)"
   ]
  },
  {
   "cell_type": "markdown",
   "id": "decd1b31",
   "metadata": {},
   "source": [
    "## 5. Evaluación del modelo"
   ]
  },
  {
   "cell_type": "code",
   "execution_count": 296,
   "id": "7e8fb0e9",
   "metadata": {},
   "outputs": [
    {
     "name": "stdout",
     "output_type": "stream",
     "text": [
      "MSE: 294372244.72\n",
      "RMSE: 17157.28\n",
      "MAE: 3282.06\n",
      "R2: 0.24\n"
     ]
    }
   ],
   "source": [
    "Y_pred = modelo_regresion_poly.predict(poly_X_test)\n",
    "#Obtenemos las métricas de evaluación del modelo.\n",
    "print('MSE: %.2f' % mean_squared_error(poly_Y_test, Y_pred, squared = True))\n",
    "print('RMSE: %.2f' % mean_squared_error(poly_Y_test, Y_pred, squared = False))\n",
    "print('MAE: %.2f' % mean_absolute_error(poly_Y_test, Y_pred))\n",
    "print('R2: %.2f' % r2_score(poly_Y_test, Y_pred))"
   ]
  },
  {
   "cell_type": "code",
   "execution_count": 297,
   "id": "74f8ae50",
   "metadata": {},
   "outputs": [
    {
     "data": {
      "text/plain": [
       "LinearRegression()"
      ]
     },
     "execution_count": 297,
     "metadata": {},
     "output_type": "execute_result"
    }
   ],
   "source": [
    "#Ajustar el modelo con los datos\n",
    "modelo_regresion_poly.fit(X,Y)"
   ]
  },
  {
   "cell_type": "markdown",
   "id": "918499d8",
   "metadata": {},
   "source": [
    "# Regresión Ridge"
   ]
  },
  {
   "cell_type": "code",
   "execution_count": 298,
   "id": "1067c830",
   "metadata": {},
   "outputs": [
    {
     "data": {
      "text/html": [
       "<div>\n",
       "<style scoped>\n",
       "    .dataframe tbody tr th:only-of-type {\n",
       "        vertical-align: middle;\n",
       "    }\n",
       "\n",
       "    .dataframe tbody tr th {\n",
       "        vertical-align: top;\n",
       "    }\n",
       "\n",
       "    .dataframe thead th {\n",
       "        text-align: right;\n",
       "    }\n",
       "</style>\n",
       "<table border=\"1\" class=\"dataframe\">\n",
       "  <thead>\n",
       "    <tr style=\"text-align: right;\">\n",
       "      <th></th>\n",
       "      <th>area_quemada</th>\n",
       "      <th>clase_incendio</th>\n",
       "      <th>mes_incendio</th>\n",
       "      <th>vegetacion</th>\n",
       "      <th>Prec_pre_30</th>\n",
       "      <th>Prec_pre_15</th>\n",
       "      <th>Prec_pre_7</th>\n",
       "      <th>Prec_cont</th>\n",
       "    </tr>\n",
       "  </thead>\n",
       "  <tbody>\n",
       "    <tr>\n",
       "      <th>0</th>\n",
       "      <td>3.0</td>\n",
       "      <td>B</td>\n",
       "      <td>Diciembre</td>\n",
       "      <td>Desierto polar_roca</td>\n",
       "      <td>59.8</td>\n",
       "      <td>8.4</td>\n",
       "      <td>0.0</td>\n",
       "      <td>86.8</td>\n",
       "    </tr>\n",
       "    <tr>\n",
       "      <th>1</th>\n",
       "      <td>60.0</td>\n",
       "      <td>C</td>\n",
       "      <td>Febrero</td>\n",
       "      <td>Bosque tropical perennifolio secundario</td>\n",
       "      <td>168.8</td>\n",
       "      <td>42.2</td>\n",
       "      <td>18.1</td>\n",
       "      <td>124.5</td>\n",
       "    </tr>\n",
       "    <tr>\n",
       "      <th>2</th>\n",
       "      <td>1.0</td>\n",
       "      <td>B</td>\n",
       "      <td>Junio</td>\n",
       "      <td>Bosque tropical perennifolio</td>\n",
       "      <td>10.4</td>\n",
       "      <td>7.2</td>\n",
       "      <td>0.0</td>\n",
       "      <td>0.0</td>\n",
       "    </tr>\n",
       "    <tr>\n",
       "      <th>3</th>\n",
       "      <td>5.2</td>\n",
       "      <td>B</td>\n",
       "      <td>Enero</td>\n",
       "      <td>Matorral abierto</td>\n",
       "      <td>26.0</td>\n",
       "      <td>0.0</td>\n",
       "      <td>0.0</td>\n",
       "      <td>0.0</td>\n",
       "    </tr>\n",
       "    <tr>\n",
       "      <th>4</th>\n",
       "      <td>1.0</td>\n",
       "      <td>B</td>\n",
       "      <td>Noviembre</td>\n",
       "      <td>Matorral abierto</td>\n",
       "      <td>28.4</td>\n",
       "      <td>27.5</td>\n",
       "      <td>1.2</td>\n",
       "      <td>55.4</td>\n",
       "    </tr>\n",
       "  </tbody>\n",
       "</table>\n",
       "</div>"
      ],
      "text/plain": [
       "   area_quemada clase_incendio mes_incendio  \\\n",
       "0           3.0              B    Diciembre   \n",
       "1          60.0              C      Febrero   \n",
       "2           1.0              B        Junio   \n",
       "3           5.2              B        Enero   \n",
       "4           1.0              B    Noviembre   \n",
       "\n",
       "                                vegetacion  Prec_pre_30  Prec_pre_15  \\\n",
       "0                      Desierto polar_roca         59.8          8.4   \n",
       "1  Bosque tropical perennifolio secundario        168.8         42.2   \n",
       "2             Bosque tropical perennifolio         10.4          7.2   \n",
       "3                         Matorral abierto         26.0          0.0   \n",
       "4                         Matorral abierto         28.4         27.5   \n",
       "\n",
       "   Prec_pre_7  Prec_cont  \n",
       "0         0.0       86.8  \n",
       "1        18.1      124.5  \n",
       "2         0.0        0.0  \n",
       "3         0.0        0.0  \n",
       "4         1.2       55.4  "
      ]
     },
     "execution_count": 298,
     "metadata": {},
     "output_type": "execute_result"
    }
   ],
   "source": [
    "# Librería para comando de sistema\n",
    "import os\n",
    "# Librerías para manejo de datos\n",
    "import pandas as pd\n",
    "# Para realizar la separación del conjunto de aprendizaje en entrenamiento y test.\n",
    "from sklearn.model_selection import train_test_split\n",
    "# Para la creación de modelo Ridge\n",
    "from sklearn.linear_model import Ridge\n",
    "# Para búsqueda de hiperparámetros\n",
    "from sklearn.model_selection import GridSearchCV\n",
    "# Para la validación cruzada\n",
    "from sklearn.model_selection import KFold \n",
    "# Para determinar el rendimiento del modelo con las métricas MSE, MAE y R2\n",
    "from sklearn.metrics import mean_squared_error, mean_absolute_error, r2_score\n",
    "data = pd.read_csv('datos_proyecto_modulo2.csv', sep=';')\n",
    "data.head()"
   ]
  },
  {
   "cell_type": "code",
   "execution_count": 299,
   "id": "4222835a",
   "metadata": {},
   "outputs": [
    {
     "data": {
      "text/plain": [
       "(37759, 8)"
      ]
     },
     "execution_count": 299,
     "metadata": {},
     "output_type": "execute_result"
    }
   ],
   "source": [
    "# Cantidad de datos y número de variables\n",
    "data.shape"
   ]
  },
  {
   "cell_type": "code",
   "execution_count": 305,
   "id": "765c7a2a",
   "metadata": {},
   "outputs": [
    {
     "data": {
      "text/plain": [
       "(26394, 30)"
      ]
     },
     "execution_count": 305,
     "metadata": {},
     "output_type": "execute_result"
    }
   ],
   "source": [
    "# Es recomendable que todos los pasos de preparación se realicen sobre otro archivo.\n",
    "data_t = data\n",
    "# Eliminación data vacía.\n",
    "data_t=data_t.dropna()\n",
    "# Eliminación de registros duplicados.\n",
    "data_t=data_t.drop_duplicates()\n",
    "# Transformación de los datos\n",
    "data_t = pd.get_dummies(data_t, columns=['mes_incendio','vegetacion', 'clase_incendio'])\n",
    "# Cantidad de datos y número de variables\n",
    "data_t.shape"
   ]
  },
  {
   "cell_type": "code",
   "execution_count": 306,
   "id": "47e51745",
   "metadata": {},
   "outputs": [],
   "source": [
    "# Se selecciona la variable objetivo, en este caso \"area_quemada\".\n",
    "Y=data_t['area_quemada']\n",
    "# Del conjunto de datos se elimina la variable \"precio\".\n",
    "X=data_t.drop(['area_quemada'], axis=1)"
   ]
  },
  {
   "cell_type": "code",
   "execution_count": 307,
   "id": "0ec90966",
   "metadata": {},
   "outputs": [],
   "source": [
    "# Se realiza la división entrenamiento - test. Se deja 20% de los datos para el test.\n",
    "X_train, X_test, Y_train, Y_test = train_test_split(X, Y, test_size = 0.20, random_state = 0)"
   ]
  },
  {
   "cell_type": "code",
   "execution_count": 308,
   "id": "cfc5730e",
   "metadata": {},
   "outputs": [
    {
     "data": {
      "text/plain": [
       "Ridge(alpha=2, normalize='True')"
      ]
     },
     "execution_count": 308,
     "metadata": {},
     "output_type": "execute_result"
    }
   ],
   "source": [
    "modelo_ridge = Ridge(alpha=2, normalize = \"True\")\n",
    "modelo_ridge"
   ]
  },
  {
   "cell_type": "code",
   "execution_count": 309,
   "id": "2a70cdcf",
   "metadata": {},
   "outputs": [
    {
     "data": {
      "text/plain": [
       "Ridge(alpha=2, normalize='True')"
      ]
     },
     "execution_count": 309,
     "metadata": {},
     "output_type": "execute_result"
    }
   ],
   "source": [
    "# Ajuste del modelo\n",
    "modelo_ridge.fit(X_train,Y_train)"
   ]
  },
  {
   "cell_type": "code",
   "execution_count": 310,
   "id": "9af4da59",
   "metadata": {},
   "outputs": [
    {
     "name": "stdout",
     "output_type": "stream",
     "text": [
      "RMSE: 18232.31\n",
      "MAE: 4066.26\n",
      "R²: 0.14\n"
     ]
    }
   ],
   "source": [
    "# Ahora probemos el rendimiento sobre el conjunto test.\n",
    "y_pred = modelo_ridge.predict(X_test)\n",
    "print(\"RMSE: %.2f\" % mean_squared_error(Y_test, y_pred, squared=False))\n",
    "print(\"MAE: %.2f\" % mean_absolute_error(Y_test, y_pred))\n",
    "print('R²: %.2f' % r2_score(Y_test, y_pred))"
   ]
  },
  {
   "cell_type": "code",
   "execution_count": 311,
   "id": "8d296946",
   "metadata": {},
   "outputs": [],
   "source": [
    "# Fijemos el número de particiones. Utilizaremos K = 10.\n",
    "particiones = KFold(n_splits=10, shuffle=True, random_state = 0)"
   ]
  },
  {
   "cell_type": "code",
   "execution_count": 312,
   "id": "b7647b6a",
   "metadata": {},
   "outputs": [],
   "source": [
    "# Ahora tenemos que definir el espacio de búsqueda, es decir, los valores de alpha que queremos que sean considerados. \n",
    "# Para esto se define un diccionario (o grilla) con los valores que podrá asumir el hiperparámetro alpha.\n",
    "# Probemos con los siguientes valores:\n",
    "param_grid = {'alpha': [0.1, 0.5, 1]}"
   ]
  },
  {
   "cell_type": "code",
   "execution_count": 313,
   "id": "054a4456",
   "metadata": {},
   "outputs": [],
   "source": [
    "# Definimos el modelo sin ningún valor del hiperparámetro alpha\n",
    "modelo_ridge = Ridge(normalize = 'True')"
   ]
  },
  {
   "cell_type": "code",
   "execution_count": 314,
   "id": "a503c444",
   "metadata": {},
   "outputs": [
    {
     "data": {
      "text/plain": [
       "GridSearchCV(cv=KFold(n_splits=10, random_state=0, shuffle=True),\n",
       "             estimator=Ridge(normalize='True'), n_jobs=-1,\n",
       "             param_grid={'alpha': [0.1, 0.5, 1]})"
      ]
     },
     "execution_count": 314,
     "metadata": {},
     "output_type": "execute_result"
    }
   ],
   "source": [
    "# Ahora utilizamos GridSearch sobre el grid definido y con 10 particiones en la validación cruzada.\n",
    "mejor_modelo = GridSearchCV(modelo_ridge, param_grid, cv=particiones, n_jobs=-1)\n",
    "# Ajuste del modelo\n",
    "mejor_modelo.fit(X_train, Y_train)"
   ]
  },
  {
   "cell_type": "code",
   "execution_count": 315,
   "id": "94922d08",
   "metadata": {},
   "outputs": [
    {
     "name": "stdout",
     "output_type": "stream",
     "text": [
      "Mejor parámetro: {'alpha': 0.1}\n"
     ]
    }
   ],
   "source": [
    "# Podemos ver cual fue el resultado de la búsqueda (mejor valor de alpha)\n",
    "print(\"Mejor parámetro: {}\".format(mejor_modelo.best_params_)) "
   ]
  },
  {
   "cell_type": "code",
   "execution_count": 316,
   "id": "bfc31403",
   "metadata": {},
   "outputs": [
    {
     "name": "stdout",
     "output_type": "stream",
     "text": [
      "Mejor parámetro: {'alpha': 0.1}\n"
     ]
    }
   ],
   "source": [
    "# También puedes indicarle a GridSearch que seleccione el mejor modelo a partir de la búsqueda con base en una métrica \n",
    "# particular. Por ejemplo, hubiésemos podido utilizar la siguiente línea de comando:\n",
    "mejor_modelo = GridSearchCV(modelo_ridge, param_grid, scoring = 'neg_mean_absolute_error', n_jobs=-1)\n",
    "mejor_modelo.fit(X_train, Y_train)\n",
    "print(\"Mejor parámetro: {}\".format(mejor_modelo.best_params_)) "
   ]
  },
  {
   "cell_type": "code",
   "execution_count": 317,
   "id": "de192a27",
   "metadata": {},
   "outputs": [
    {
     "name": "stdout",
     "output_type": "stream",
     "text": [
      "RMSE: 17286.04\n",
      "MAE: 3569.24\n",
      "R²: 0.23\n"
     ]
    }
   ],
   "source": [
    "modelo_final = mejor_modelo.best_estimator_\n",
    "# Probemos ahora este modelo sobre test.\n",
    "y_pred = modelo_final.predict(X_test)\n",
    "print(\"RMSE: %.2f\" % mean_squared_error(Y_test, y_pred, squared=False))\n",
    "print(\"MAE: %.2f\" % mean_absolute_error(Y_test, y_pred))\n",
    "print('R²: %.2f' % r2_score(Y_test, y_pred))"
   ]
  },
  {
   "cell_type": "markdown",
   "id": "8fb33689",
   "metadata": {},
   "source": [
    "# Regresión Lasso"
   ]
  },
  {
   "cell_type": "code",
   "execution_count": 318,
   "id": "d3dd2a30",
   "metadata": {},
   "outputs": [
    {
     "data": {
      "text/html": [
       "<div>\n",
       "<style scoped>\n",
       "    .dataframe tbody tr th:only-of-type {\n",
       "        vertical-align: middle;\n",
       "    }\n",
       "\n",
       "    .dataframe tbody tr th {\n",
       "        vertical-align: top;\n",
       "    }\n",
       "\n",
       "    .dataframe thead th {\n",
       "        text-align: right;\n",
       "    }\n",
       "</style>\n",
       "<table border=\"1\" class=\"dataframe\">\n",
       "  <thead>\n",
       "    <tr style=\"text-align: right;\">\n",
       "      <th></th>\n",
       "      <th>area_quemada</th>\n",
       "      <th>clase_incendio</th>\n",
       "      <th>mes_incendio</th>\n",
       "      <th>vegetacion</th>\n",
       "      <th>Prec_pre_30</th>\n",
       "      <th>Prec_pre_15</th>\n",
       "      <th>Prec_pre_7</th>\n",
       "      <th>Prec_cont</th>\n",
       "    </tr>\n",
       "  </thead>\n",
       "  <tbody>\n",
       "    <tr>\n",
       "      <th>0</th>\n",
       "      <td>3.0</td>\n",
       "      <td>B</td>\n",
       "      <td>Diciembre</td>\n",
       "      <td>Desierto polar_roca</td>\n",
       "      <td>59.8</td>\n",
       "      <td>8.4</td>\n",
       "      <td>0.0</td>\n",
       "      <td>86.8</td>\n",
       "    </tr>\n",
       "    <tr>\n",
       "      <th>1</th>\n",
       "      <td>60.0</td>\n",
       "      <td>C</td>\n",
       "      <td>Febrero</td>\n",
       "      <td>Bosque tropical perennifolio secundario</td>\n",
       "      <td>168.8</td>\n",
       "      <td>42.2</td>\n",
       "      <td>18.1</td>\n",
       "      <td>124.5</td>\n",
       "    </tr>\n",
       "    <tr>\n",
       "      <th>2</th>\n",
       "      <td>1.0</td>\n",
       "      <td>B</td>\n",
       "      <td>Junio</td>\n",
       "      <td>Bosque tropical perennifolio</td>\n",
       "      <td>10.4</td>\n",
       "      <td>7.2</td>\n",
       "      <td>0.0</td>\n",
       "      <td>0.0</td>\n",
       "    </tr>\n",
       "    <tr>\n",
       "      <th>3</th>\n",
       "      <td>5.2</td>\n",
       "      <td>B</td>\n",
       "      <td>Enero</td>\n",
       "      <td>Matorral abierto</td>\n",
       "      <td>26.0</td>\n",
       "      <td>0.0</td>\n",
       "      <td>0.0</td>\n",
       "      <td>0.0</td>\n",
       "    </tr>\n",
       "    <tr>\n",
       "      <th>4</th>\n",
       "      <td>1.0</td>\n",
       "      <td>B</td>\n",
       "      <td>Noviembre</td>\n",
       "      <td>Matorral abierto</td>\n",
       "      <td>28.4</td>\n",
       "      <td>27.5</td>\n",
       "      <td>1.2</td>\n",
       "      <td>55.4</td>\n",
       "    </tr>\n",
       "  </tbody>\n",
       "</table>\n",
       "</div>"
      ],
      "text/plain": [
       "   area_quemada clase_incendio mes_incendio  \\\n",
       "0           3.0              B    Diciembre   \n",
       "1          60.0              C      Febrero   \n",
       "2           1.0              B        Junio   \n",
       "3           5.2              B        Enero   \n",
       "4           1.0              B    Noviembre   \n",
       "\n",
       "                                vegetacion  Prec_pre_30  Prec_pre_15  \\\n",
       "0                      Desierto polar_roca         59.8          8.4   \n",
       "1  Bosque tropical perennifolio secundario        168.8         42.2   \n",
       "2             Bosque tropical perennifolio         10.4          7.2   \n",
       "3                         Matorral abierto         26.0          0.0   \n",
       "4                         Matorral abierto         28.4         27.5   \n",
       "\n",
       "   Prec_pre_7  Prec_cont  \n",
       "0         0.0       86.8  \n",
       "1        18.1      124.5  \n",
       "2         0.0        0.0  \n",
       "3         0.0        0.0  \n",
       "4         1.2       55.4  "
      ]
     },
     "execution_count": 318,
     "metadata": {},
     "output_type": "execute_result"
    }
   ],
   "source": [
    "# Librería para comando de sistema\n",
    "import os\n",
    "# Librerías para manejo de datos\n",
    "import pandas as pd\n",
    "# Para realizar la separación del conjunto de aprendizaje en entrenamiento y test.\n",
    "from sklearn.model_selection import train_test_split\n",
    "# Para la creación de modelo Ridge\n",
    "from sklearn.linear_model import Lasso\n",
    "# Para búsqueda de hiperparámetros\n",
    "from sklearn.model_selection import GridSearchCV\n",
    "# Para la validación cruzada\n",
    "from sklearn.model_selection import KFold \n",
    "# Para determinar el rendimiento del modelo con las métricas MSE, MAE y R2\n",
    "from sklearn.metrics import mean_squared_error, mean_absolute_error, r2_score\n",
    "data = pd.read_csv('datos_proyecto_modulo2.csv', sep=';')\n",
    "data.head()"
   ]
  },
  {
   "cell_type": "code",
   "execution_count": 319,
   "id": "ff3d084a",
   "metadata": {},
   "outputs": [
    {
     "data": {
      "text/plain": [
       "(26394, 30)"
      ]
     },
     "execution_count": 319,
     "metadata": {},
     "output_type": "execute_result"
    }
   ],
   "source": [
    "# Es recomendable que todos los pasos de preparación se realicen sobre otro archivo.\n",
    "data_t = data\n",
    "# Eliminación data vacía.\n",
    "data_t=data_t.dropna()\n",
    "# Eliminación de registros duplicados.\n",
    "data_t=data_t.drop_duplicates()\n",
    "# Transformación de los datos\n",
    "data_t = pd.get_dummies(data_t, columns=['mes_incendio','vegetacion', 'clase_incendio'])\n",
    "# Cantidad de datos y número de variables\n",
    "data_t.shape"
   ]
  },
  {
   "cell_type": "code",
   "execution_count": 320,
   "id": "092dbda5",
   "metadata": {},
   "outputs": [],
   "source": [
    "# Se selecciona la variable objetivo, en este caso \"area_quemada\".\n",
    "Y=data_t['area_quemada']\n",
    "# Del conjunto de datos se elimina la variable \"precio\".\n",
    "X=data_t.drop(['area_quemada'], axis=1)"
   ]
  },
  {
   "cell_type": "code",
   "execution_count": 321,
   "id": "59424d5e",
   "metadata": {},
   "outputs": [],
   "source": [
    "# Se realiza la división entrenamiento - test. Se deja 20% de los datos para el test.\n",
    "X_train, X_test, Y_train, Y_test = train_test_split(X, Y, test_size = 0.20, random_state = 0)"
   ]
  },
  {
   "cell_type": "code",
   "execution_count": 322,
   "id": "674d8b6c",
   "metadata": {},
   "outputs": [
    {
     "data": {
      "text/plain": [
       "Lasso(alpha=1, normalize='True')"
      ]
     },
     "execution_count": 322,
     "metadata": {},
     "output_type": "execute_result"
    }
   ],
   "source": [
    "# Para acelerar la convergencia del algoritmo que utiliza Lasso para optimizar la función de costo, utilizaremos la opción\n",
    "# de normalizar los datos para que todos estén en el mismo rango.\n",
    "modelo_lasso = Lasso(alpha=1, normalize = 'True')\n",
    "modelo_lasso"
   ]
  },
  {
   "cell_type": "code",
   "execution_count": 323,
   "id": "8e356577",
   "metadata": {},
   "outputs": [
    {
     "data": {
      "text/plain": [
       "Lasso(alpha=1, normalize='True')"
      ]
     },
     "execution_count": 323,
     "metadata": {},
     "output_type": "execute_result"
    }
   ],
   "source": [
    "# Ajuste del modelo\n",
    "modelo_lasso.fit(X_train,Y_train)"
   ]
  },
  {
   "cell_type": "code",
   "execution_count": 324,
   "id": "a8e06eba",
   "metadata": {},
   "outputs": [
    {
     "name": "stdout",
     "output_type": "stream",
     "text": [
      "RMSE: 17250.73\n",
      "MAE: 3446.58\n",
      "R²: 0.23\n"
     ]
    }
   ],
   "source": [
    "# Ahora probemos el rendimiento sobre el conjunto test.\n",
    "y_pred = modelo_lasso.predict(X_test)\n",
    "print(\"RMSE: %.2f\" % mean_squared_error(Y_test, y_pred, squared=False))\n",
    "print(\"MAE: %.2f\" % mean_absolute_error(Y_test, y_pred))\n",
    "print('R²: %.2f' % r2_score(Y_test, y_pred))"
   ]
  },
  {
   "cell_type": "code",
   "execution_count": 325,
   "id": "49da8693",
   "metadata": {},
   "outputs": [],
   "source": [
    "# Fijemos el número de particiones. Utilizaremos K = 10.\n",
    "particiones = KFold(n_splits=10, shuffle=True, random_state = 0)"
   ]
  },
  {
   "cell_type": "code",
   "execution_count": 326,
   "id": "4a10314d",
   "metadata": {},
   "outputs": [],
   "source": [
    "# Ahora tenemos que definir el espacio de búsqueda, es decir, los valores de alpha que queremos que sean considerados. \n",
    "# Para esto se define un diccionario (o grilla) con los valores que podrá asumir el hiperparámetro alpha.\n",
    "# Probemos con los siguientes valores:\n",
    "param_grid = {'alpha': [1, 2, 3, 4, 5]}"
   ]
  },
  {
   "cell_type": "code",
   "execution_count": 327,
   "id": "1b6fcd89",
   "metadata": {},
   "outputs": [],
   "source": [
    "# Definimos el modelo sin ningún valor del hiperparámetro alpha\n",
    "modelo_lasso = Lasso(normalize = 'True')"
   ]
  },
  {
   "cell_type": "code",
   "execution_count": 328,
   "id": "793c698c",
   "metadata": {},
   "outputs": [
    {
     "data": {
      "text/plain": [
       "GridSearchCV(cv=KFold(n_splits=10, random_state=0, shuffle=True),\n",
       "             estimator=Lasso(normalize='True'), n_jobs=-1,\n",
       "             param_grid={'alpha': [1, 2, 3, 4, 5]})"
      ]
     },
     "execution_count": 328,
     "metadata": {},
     "output_type": "execute_result"
    }
   ],
   "source": [
    "# Ahora utilizamos GridSearch sobre el grid definido y con 10 particiones en la validación cruzada.\n",
    "mejor_modelo = GridSearchCV(modelo_lasso, param_grid, cv=particiones, n_jobs=-1)\n",
    "# Ajuste del modelo\n",
    "mejor_modelo.fit(X_train, Y_train)"
   ]
  },
  {
   "cell_type": "code",
   "execution_count": 329,
   "id": "fccd3c90",
   "metadata": {},
   "outputs": [
    {
     "name": "stdout",
     "output_type": "stream",
     "text": [
      "Mejor parámetro: {'alpha': 1}\n"
     ]
    }
   ],
   "source": [
    "# Podemos ver cual fue el resultado de la búsqueda (mejor valor de alpha)\n",
    "print(\"Mejor parámetro: {}\".format(mejor_modelo.best_params_)) "
   ]
  },
  {
   "cell_type": "code",
   "execution_count": 330,
   "id": "404b5fbf",
   "metadata": {},
   "outputs": [
    {
     "name": "stdout",
     "output_type": "stream",
     "text": [
      "Mejor parámetro: {'alpha': 3}\n"
     ]
    }
   ],
   "source": [
    "# También puedes indicarle a GridSearch que seleccione el mejor modelo a partir de la búsqueda con base en una métrica \n",
    "# particular. Por ejemplo, hubiésemos podido utilizar la siguiente línea de comando:\n",
    "mejor_modelo = GridSearchCV(modelo_lasso, param_grid, scoring = 'neg_mean_absolute_error', n_jobs=-1 )\n",
    "mejor_modelo.fit(X_train, Y_train)\n",
    "print(\"Mejor parámetro: {}\".format(mejor_modelo.best_params_)) "
   ]
  },
  {
   "cell_type": "code",
   "execution_count": 331,
   "id": "9083e2d9",
   "metadata": {},
   "outputs": [
    {
     "name": "stdout",
     "output_type": "stream",
     "text": [
      "RMSE: 17284.95\n",
      "MAE: 3321.13\n",
      "R²: 0.23\n"
     ]
    }
   ],
   "source": [
    "modelo_final = mejor_modelo.best_estimator_\n",
    "# Probemos ahora este modelo sobre test.\n",
    "y_pred = modelo_final.predict(X_test)\n",
    "print(\"RMSE: %.2f\" % mean_squared_error(Y_test, y_pred, squared=False))\n",
    "print(\"MAE: %.2f\" % mean_absolute_error(Y_test, y_pred))\n",
    "print('R²: %.2f' % r2_score(Y_test, y_pred))"
   ]
  },
  {
   "cell_type": "code",
   "execution_count": 332,
   "id": "a6922982",
   "metadata": {},
   "outputs": [
    {
     "data": {
      "text/html": [
       "<div>\n",
       "<style scoped>\n",
       "    .dataframe tbody tr th:only-of-type {\n",
       "        vertical-align: middle;\n",
       "    }\n",
       "\n",
       "    .dataframe tbody tr th {\n",
       "        vertical-align: top;\n",
       "    }\n",
       "\n",
       "    .dataframe thead th {\n",
       "        text-align: right;\n",
       "    }\n",
       "</style>\n",
       "<table border=\"1\" class=\"dataframe\">\n",
       "  <thead>\n",
       "    <tr style=\"text-align: right;\">\n",
       "      <th></th>\n",
       "      <th>coeficientes</th>\n",
       "      <th>variables</th>\n",
       "    </tr>\n",
       "  </thead>\n",
       "  <tbody>\n",
       "    <tr>\n",
       "      <th>0</th>\n",
       "      <td>-0.000000</td>\n",
       "      <td>Prec_pre_30</td>\n",
       "    </tr>\n",
       "    <tr>\n",
       "      <th>1</th>\n",
       "      <td>-0.000000</td>\n",
       "      <td>Prec_pre_15</td>\n",
       "    </tr>\n",
       "    <tr>\n",
       "      <th>2</th>\n",
       "      <td>-0.000000</td>\n",
       "      <td>Prec_pre_7</td>\n",
       "    </tr>\n",
       "    <tr>\n",
       "      <th>3</th>\n",
       "      <td>-0.000000</td>\n",
       "      <td>Prec_cont</td>\n",
       "    </tr>\n",
       "    <tr>\n",
       "      <th>4</th>\n",
       "      <td>-0.000000</td>\n",
       "      <td>mes_incendio_Abril</td>\n",
       "    </tr>\n",
       "    <tr>\n",
       "      <th>5</th>\n",
       "      <td>-0.000000</td>\n",
       "      <td>mes_incendio_Agosto</td>\n",
       "    </tr>\n",
       "    <tr>\n",
       "      <th>6</th>\n",
       "      <td>-0.000000</td>\n",
       "      <td>mes_incendio_Diciembre</td>\n",
       "    </tr>\n",
       "    <tr>\n",
       "      <th>7</th>\n",
       "      <td>-0.000000</td>\n",
       "      <td>mes_incendio_Enero</td>\n",
       "    </tr>\n",
       "    <tr>\n",
       "      <th>8</th>\n",
       "      <td>-0.000000</td>\n",
       "      <td>mes_incendio_Febrero</td>\n",
       "    </tr>\n",
       "    <tr>\n",
       "      <th>9</th>\n",
       "      <td>0.000000</td>\n",
       "      <td>mes_incendio_Julio</td>\n",
       "    </tr>\n",
       "    <tr>\n",
       "      <th>10</th>\n",
       "      <td>943.771202</td>\n",
       "      <td>mes_incendio_Junio</td>\n",
       "    </tr>\n",
       "    <tr>\n",
       "      <th>11</th>\n",
       "      <td>-0.000000</td>\n",
       "      <td>mes_incendio_Marzo</td>\n",
       "    </tr>\n",
       "    <tr>\n",
       "      <th>12</th>\n",
       "      <td>0.000000</td>\n",
       "      <td>mes_incendio_Mayo</td>\n",
       "    </tr>\n",
       "    <tr>\n",
       "      <th>13</th>\n",
       "      <td>-0.000000</td>\n",
       "      <td>mes_incendio_Noviembre</td>\n",
       "    </tr>\n",
       "    <tr>\n",
       "      <th>14</th>\n",
       "      <td>-0.000000</td>\n",
       "      <td>mes_incendio_Octubre</td>\n",
       "    </tr>\n",
       "    <tr>\n",
       "      <th>15</th>\n",
       "      <td>-0.000000</td>\n",
       "      <td>mes_incendio_Septiembre</td>\n",
       "    </tr>\n",
       "    <tr>\n",
       "      <th>16</th>\n",
       "      <td>0.000000</td>\n",
       "      <td>vegetacion_Bosque templado</td>\n",
       "    </tr>\n",
       "    <tr>\n",
       "      <th>17</th>\n",
       "      <td>719.265738</td>\n",
       "      <td>vegetacion_Bosque tropical perennifolio</td>\n",
       "    </tr>\n",
       "    <tr>\n",
       "      <th>18</th>\n",
       "      <td>-0.000000</td>\n",
       "      <td>vegetacion_Bosque tropical perennifolio secund...</td>\n",
       "    </tr>\n",
       "    <tr>\n",
       "      <th>19</th>\n",
       "      <td>-0.000000</td>\n",
       "      <td>vegetacion_Desierto</td>\n",
       "    </tr>\n",
       "    <tr>\n",
       "      <th>20</th>\n",
       "      <td>-0.000000</td>\n",
       "      <td>vegetacion_Desierto polar_roca</td>\n",
       "    </tr>\n",
       "    <tr>\n",
       "      <th>21</th>\n",
       "      <td>-0.000000</td>\n",
       "      <td>vegetacion_Matorral abierto</td>\n",
       "    </tr>\n",
       "    <tr>\n",
       "      <th>22</th>\n",
       "      <td>0.000000</td>\n",
       "      <td>vegetacion_Pradera_estepa</td>\n",
       "    </tr>\n",
       "    <tr>\n",
       "      <th>23</th>\n",
       "      <td>-0.000000</td>\n",
       "      <td>clase_incendio_B</td>\n",
       "    </tr>\n",
       "    <tr>\n",
       "      <th>24</th>\n",
       "      <td>-0.000000</td>\n",
       "      <td>clase_incendio_C</td>\n",
       "    </tr>\n",
       "    <tr>\n",
       "      <th>25</th>\n",
       "      <td>-0.000000</td>\n",
       "      <td>clase_incendio_D</td>\n",
       "    </tr>\n",
       "    <tr>\n",
       "      <th>26</th>\n",
       "      <td>0.000000</td>\n",
       "      <td>clase_incendio_E</td>\n",
       "    </tr>\n",
       "    <tr>\n",
       "      <th>27</th>\n",
       "      <td>1142.244328</td>\n",
       "      <td>clase_incendio_F</td>\n",
       "    </tr>\n",
       "    <tr>\n",
       "      <th>28</th>\n",
       "      <td>25429.522494</td>\n",
       "      <td>clase_incendio_G</td>\n",
       "    </tr>\n",
       "  </tbody>\n",
       "</table>\n",
       "</div>"
      ],
      "text/plain": [
       "    coeficientes                                          variables\n",
       "0      -0.000000                                        Prec_pre_30\n",
       "1      -0.000000                                        Prec_pre_15\n",
       "2      -0.000000                                         Prec_pre_7\n",
       "3      -0.000000                                          Prec_cont\n",
       "4      -0.000000                                 mes_incendio_Abril\n",
       "5      -0.000000                                mes_incendio_Agosto\n",
       "6      -0.000000                             mes_incendio_Diciembre\n",
       "7      -0.000000                                 mes_incendio_Enero\n",
       "8      -0.000000                               mes_incendio_Febrero\n",
       "9       0.000000                                 mes_incendio_Julio\n",
       "10    943.771202                                 mes_incendio_Junio\n",
       "11     -0.000000                                 mes_incendio_Marzo\n",
       "12      0.000000                                  mes_incendio_Mayo\n",
       "13     -0.000000                             mes_incendio_Noviembre\n",
       "14     -0.000000                               mes_incendio_Octubre\n",
       "15     -0.000000                            mes_incendio_Septiembre\n",
       "16      0.000000                         vegetacion_Bosque templado\n",
       "17    719.265738            vegetacion_Bosque tropical perennifolio\n",
       "18     -0.000000  vegetacion_Bosque tropical perennifolio secund...\n",
       "19     -0.000000                                vegetacion_Desierto\n",
       "20     -0.000000                     vegetacion_Desierto polar_roca\n",
       "21     -0.000000                        vegetacion_Matorral abierto\n",
       "22      0.000000                          vegetacion_Pradera_estepa\n",
       "23     -0.000000                                   clase_incendio_B\n",
       "24     -0.000000                                   clase_incendio_C\n",
       "25     -0.000000                                   clase_incendio_D\n",
       "26      0.000000                                   clase_incendio_E\n",
       "27   1142.244328                                   clase_incendio_F\n",
       "28  25429.522494                                   clase_incendio_G"
      ]
     },
     "execution_count": 332,
     "metadata": {},
     "output_type": "execute_result"
    }
   ],
   "source": [
    "# Revisar los parámetros del modelo entrenado\n",
    "coeficientes = modelo_final.coef_\n",
    "variables = X_train.columns\n",
    "# Mostrar en una tabla los valores de los coeficientes para cada variable\n",
    "pd.DataFrame({'coeficientes':coeficientes,'variables':variables})"
   ]
  },
  {
   "cell_type": "code",
   "execution_count": null,
   "id": "4ccc82e4",
   "metadata": {},
   "outputs": [],
   "source": []
  }
 ],
 "metadata": {
  "kernelspec": {
   "display_name": "Python 3 (ipykernel)",
   "language": "python",
   "name": "python3"
  },
  "language_info": {
   "codemirror_mode": {
    "name": "ipython",
    "version": 3
   },
   "file_extension": ".py",
   "mimetype": "text/x-python",
   "name": "python",
   "nbconvert_exporter": "python",
   "pygments_lexer": "ipython3",
   "version": "3.9.7"
  }
 },
 "nbformat": 4,
 "nbformat_minor": 5
}
